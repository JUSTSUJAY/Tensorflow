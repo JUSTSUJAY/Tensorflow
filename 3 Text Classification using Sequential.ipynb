{
 "cells": [
  {
   "cell_type": "code",
   "execution_count": 1,
   "id": "fbb450dc",
   "metadata": {},
   "outputs": [],
   "source": [
    "import matplotlib.pyplot as plt\n",
    "import os\n",
    "import re\n",
    "import shutil\n",
    "import string\n",
    "import tensorflow as tf\n",
    "from tensorflow.keras import layers\n",
    "from tensorflow.keras import losses"
   ]
  },
  {
   "cell_type": "code",
   "execution_count": 2,
   "id": "89bd276b",
   "metadata": {},
   "outputs": [
    {
     "name": "stdout",
     "output_type": "stream",
     "text": [
      "Downloading data from https://ai.stanford.edu/~amaas/data/sentiment/aclImdb_v1.tar.gz\n",
      "84125825/84125825 [==============================] - 338s 4us/step\n"
     ]
    }
   ],
   "source": [
    "url = 'https://ai.stanford.edu/~amaas/data/sentiment/aclImdb_v1.tar.gz'\n",
    "dataset = tf.keras.utils.get_file('aclImdb_v1',url,\n",
    "                                 untar = True,cache_dir = '.',\n",
    "                                 cache_subdir = '')\n",
    "dataset_dir = os.path.join(os.path.dirname(dataset),'aclImdb')"
   ]
  },
  {
   "cell_type": "code",
   "execution_count": 3,
   "id": "940ed35b",
   "metadata": {},
   "outputs": [
    {
     "data": {
      "text/plain": [
       "['imdb.vocab', 'imdbEr.txt', 'README', 'test', 'train']"
      ]
     },
     "execution_count": 3,
     "metadata": {},
     "output_type": "execute_result"
    }
   ],
   "source": [
    "os.listdir(dataset_dir)"
   ]
  },
  {
   "cell_type": "code",
   "execution_count": 4,
   "id": "0002c629",
   "metadata": {},
   "outputs": [
    {
     "data": {
      "text/plain": [
       "['labeledBow.feat',\n",
       " 'neg',\n",
       " 'pos',\n",
       " 'unsup',\n",
       " 'unsupBow.feat',\n",
       " 'urls_neg.txt',\n",
       " 'urls_pos.txt',\n",
       " 'urls_unsup.txt']"
      ]
     },
     "execution_count": 4,
     "metadata": {},
     "output_type": "execute_result"
    }
   ],
   "source": [
    "train_dir = os.path.join(dataset_dir,'train')\n",
    "os.listdir(train_dir)"
   ]
  },
  {
   "cell_type": "code",
   "execution_count": 7,
   "id": "53d9ad7d",
   "metadata": {},
   "outputs": [],
   "source": [
    "dir_to_be_removed = os.path.join(train_dir,'unsup')\n",
    "shutil.rmtree(dir_to_be_removed)"
   ]
  },
  {
   "cell_type": "code",
   "execution_count": 8,
   "id": "ce79b19a",
   "metadata": {},
   "outputs": [
    {
     "name": "stdout",
     "output_type": "stream",
     "text": [
      "Found 50005 files belonging to 2 classes.\n",
      "Using 40004 files for training.\n",
      "Found 50005 files belonging to 2 classes.\n",
      "Using 10001 files for validation.\n"
     ]
    }
   ],
   "source": [
    "batch_size = 32\n",
    "seed = 983\n",
    "\n",
    "raw_train = tf.keras.utils.text_dataset_from_directory('aclImdb',\n",
    "                                                      validation_split = 0.2,\n",
    "                                                      subset = 'training',\n",
    "                                                      batch_size = batch_size,\n",
    "                                                      seed = seed)\n",
    "\n",
    "raw_val = tf.keras.utils.text_dataset_from_directory('aclImdb',\n",
    "                                                      validation_split = 0.2,\n",
    "                                                      subset = 'validation',\n",
    "                                                      batch_size = batch_size,\n",
    "                                                      seed = seed)"
   ]
  },
  {
   "cell_type": "code",
   "execution_count": 9,
   "id": "7abc0c00",
   "metadata": {},
   "outputs": [
    {
     "name": "stdout",
     "output_type": "stream",
     "text": [
      "Review :  tf.Tensor(b'No wonder most of the cast wished they never made this movie. It\\'s just plain ridiculous and embarrassing to watch. Bad actors reading cheesy lines while shiny classic showroom cars continuously circle a diner that looks more like a Disneyland attraction. Students fist-fight with the deranged principal as he tries to stop them from setting fire to a bronze civil war statue. The Watts riots with a cast of...ugh...10?? Dermot Mulroney tries not to gag while he makes out with a Mary Hartman look-alike with the most annoying smile since \\'Mr. Sardonicus\\'. Noah Wyle reads Bob Dylan lyrics to the wicked teacher with a swinging pointer and very bad face lift. Drunken virgin Rick Schroder sits in a kiddie rocket on his last night before entering the service. Silly, giggling school girls dress up in leopard stretch pants and walk on the set of \\'Shindig\\', sing horribly off key, and actually make it big in the music business. And who wrote this compelling dialog?: \"I\\'m going to Burkley and wear flowers in my hair\"....\"I think I found someone to buy Stick\\'s woody!\"....\"These people are \\'animals\\'!\" \"These people are my \\'family\\'! as the Shirelles sing \"Mama Said\". Oh brother, What a mess. This is like a \\'Reefer Madness\\' of the 60\\'s except it\\'s not even funny.', shape=(), dtype=string)\n",
      "Label :  tf.Tensor(1, shape=(), dtype=int32)\n",
      "Review :  tf.Tensor(b\"In a very short time, the movie showed a boy's odd life of taking pictures, showed his life and everyone else's get turned upside down as a result of his photographs, then brought everything back to normal in the end. One to see if you're looking for something interesting.\", shape=(), dtype=string)\n",
      "Label :  tf.Tensor(1, shape=(), dtype=int32)\n",
      "Review :  tf.Tensor(b\"This is definitely one of the greatest Disney movies ever made. It's a real pleaser to anyone. It'll make you laugh, it'll make you cry, and it'll put you into suspense.<br /><br />Basically, what Homeward Bound is about is three household pets who are sent to live on a farm while their owners go on vacation. They don't know what is going on, and desperately wanting to go home, they escape from the farm and try to find their way home through the wilderness.<br /><br />This is one of the last movies that Don Ameche starred in. He provided the voice of Shadow, the old, wise and friendly golden retriever. Also starring in this movie was Sally Field providing the voice of Sassy, the Himalayan cat. But seriously, what this movie is all about is Chance! Voiced by Michael J. Fox (my all-time favorite actor), Chance is basically all you'd expect from a dog, lovable, playful, energetic and goofy, and every time I crack up when watching this movie, it's because of Chance; it's like the comedy never ends! <br /><br />This movie is also very sad at times. It sometimes reminds people of the times they've been alone or when they lose their pets.<br /><br />One scene that always puts me in suspense is the scene where the trio is trying to escape from the pound; I especially feel shocked at the part where Chance gets his collar caught in the fence and almost doesn't make it. The movie had other suspenseful moments, but none to me seem more suspenseful than that one.<br /><br />Overall, it's a wonderful family movie. If you enjoyed this movie, you'll probably enjoy the sequel too. I give this movie a solid 9 out of 10!\", shape=(), dtype=string)\n",
      "Label :  tf.Tensor(1, shape=(), dtype=int32)\n"
     ]
    }
   ],
   "source": [
    "for text_batch,label_batch in raw_train.take(1):\n",
    "    for i in range(3):\n",
    "        print('Review : ',text_batch[i])\n",
    "        print('Label : ',label_batch[i])"
   ]
  },
  {
   "cell_type": "code",
   "execution_count": 10,
   "id": "f17aa55a",
   "metadata": {},
   "outputs": [
    {
     "name": "stdout",
     "output_type": "stream",
     "text": [
      "Found 25000 files belonging to 2 classes.\n"
     ]
    }
   ],
   "source": [
    "test = tf.keras.utils.text_dataset_from_directory('aclImdb/test',\n",
    "                                                 batch_size = batch_size)"
   ]
  },
  {
   "cell_type": "code",
   "execution_count": 12,
   "id": "5fe3f70d",
   "metadata": {},
   "outputs": [],
   "source": [
    "def custom_standardization(input_data):\n",
    "    lowercase = tf.strings.lower(input_data)\n",
    "    stripped_html = tf.strings.regex_replace(lowercase, '<br />', ' ')\n",
    "    return tf.strings.regex_replace(stripped_html,\n",
    "                                  '[%s]' % re.escape(string.punctuation),\n",
    "                                  '')"
   ]
  },
  {
   "cell_type": "code",
   "execution_count": 13,
   "id": "7cfe5d0a",
   "metadata": {},
   "outputs": [],
   "source": [
    "max_features = 10000\n",
    "sequence_length = 250\n",
    "\n",
    "vectorize_layer = layers.TextVectorization(\n",
    "    standardize=custom_standardization,\n",
    "    max_tokens=max_features,\n",
    "    output_mode='int',\n",
    "    output_sequence_length=sequence_length)"
   ]
  },
  {
   "cell_type": "code",
   "execution_count": 16,
   "id": "c2659103",
   "metadata": {},
   "outputs": [],
   "source": [
    "# Make a text-only dataset (without labels), then call adapt\n",
    "train_text = raw_train.map(lambda x, y: x)\n",
    "vectorize_layer.adapt(train_text)"
   ]
  },
  {
   "cell_type": "code",
   "execution_count": 17,
   "id": "aac24356",
   "metadata": {},
   "outputs": [],
   "source": [
    "def vectorize_text(text, label):\n",
    "    text = tf.expand_dims(text, -1)\n",
    "    return vectorize_layer(text), label"
   ]
  },
  {
   "cell_type": "code",
   "execution_count": 19,
   "id": "406d6dcb",
   "metadata": {},
   "outputs": [
    {
     "name": "stdout",
     "output_type": "stream",
     "text": [
      "review tf.Tensor(b\"The only thing serious about this movie is the humor. Well worth the rental price. I'll bet you watch it twice. It's obvious that Sutherland enjoyed his role.\", shape=(), dtype=string)\n",
      "tf.Tensor(1, shape=(), dtype=int32)\n",
      "(<tf.Tensor: shape=(1, 250), dtype=int64, numpy=\n",
      "array([[   2,   61,  147,  589,   42,   11,   17,    7,    2,  462,   70,\n",
      "         262,    2, 2249, 1741,  534, 2277,   22,  103,    9, 1465,   29,\n",
      "         597,   12, 3067,  491,   24,  208,    0,    0,    0,    0,    0,\n",
      "           0,    0,    0,    0,    0,    0,    0,    0,    0,    0,    0,\n",
      "           0,    0,    0,    0,    0,    0,    0,    0,    0,    0,    0,\n",
      "           0,    0,    0,    0,    0,    0,    0,    0,    0,    0,    0,\n",
      "           0,    0,    0,    0,    0,    0,    0,    0,    0,    0,    0,\n",
      "           0,    0,    0,    0,    0,    0,    0,    0,    0,    0,    0,\n",
      "           0,    0,    0,    0,    0,    0,    0,    0,    0,    0,    0,\n",
      "           0,    0,    0,    0,    0,    0,    0,    0,    0,    0,    0,\n",
      "           0,    0,    0,    0,    0,    0,    0,    0,    0,    0,    0,\n",
      "           0,    0,    0,    0,    0,    0,    0,    0,    0,    0,    0,\n",
      "           0,    0,    0,    0,    0,    0,    0,    0,    0,    0,    0,\n",
      "           0,    0,    0,    0,    0,    0,    0,    0,    0,    0,    0,\n",
      "           0,    0,    0,    0,    0,    0,    0,    0,    0,    0,    0,\n",
      "           0,    0,    0,    0,    0,    0,    0,    0,    0,    0,    0,\n",
      "           0,    0,    0,    0,    0,    0,    0,    0,    0,    0,    0,\n",
      "           0,    0,    0,    0,    0,    0,    0,    0,    0,    0,    0,\n",
      "           0,    0,    0,    0,    0,    0,    0,    0,    0,    0,    0,\n",
      "           0,    0,    0,    0,    0,    0,    0,    0,    0,    0,    0,\n",
      "           0,    0,    0,    0,    0,    0,    0,    0,    0,    0,    0,\n",
      "           0,    0,    0,    0,    0,    0,    0,    0,    0,    0,    0,\n",
      "           0,    0,    0,    0,    0,    0,    0,    0]], dtype=int64)>, <tf.Tensor: shape=(), dtype=int32, numpy=1>)\n"
     ]
    }
   ],
   "source": [
    "text_batch,label_batch = next(iter(raw_train))\n",
    "first_review, first_label = text_batch[0], label_batch[0]\n",
    "print('review',first_review)\n",
    "print(first_label)\n",
    "print(vectorize_text(first_review,first_label))"
   ]
  },
  {
   "cell_type": "code",
   "execution_count": 20,
   "id": "0c8fe8fa",
   "metadata": {},
   "outputs": [],
   "source": [
    "train_ds = raw_train.map(vectorize_text)\n",
    "val_ds = raw_val.map(vectorize_text)\n",
    "test_ds = test.map(vectorize_text)"
   ]
  },
  {
   "cell_type": "code",
   "execution_count": 21,
   "id": "f660c06a",
   "metadata": {},
   "outputs": [],
   "source": [
    "AUTOTUNE = tf.data.AUTOTUNE\n",
    "\n",
    "train_ds = train_ds.cache().prefetch(buffer_size=AUTOTUNE)\n",
    "val_ds = val_ds.cache().prefetch(buffer_size=AUTOTUNE)\n",
    "test_ds = test_ds.cache().prefetch(buffer_size=AUTOTUNE)"
   ]
  },
  {
   "cell_type": "code",
   "execution_count": 22,
   "id": "a05a249d",
   "metadata": {},
   "outputs": [],
   "source": [
    "embedding_dim = 16"
   ]
  },
  {
   "cell_type": "code",
   "execution_count": 23,
   "id": "77c331f0",
   "metadata": {},
   "outputs": [
    {
     "name": "stdout",
     "output_type": "stream",
     "text": [
      "Model: \"sequential\"\n",
      "_________________________________________________________________\n",
      " Layer (type)                Output Shape              Param #   \n",
      "=================================================================\n",
      " embedding (Embedding)       (None, None, 16)          160016    \n",
      "                                                                 \n",
      " dropout (Dropout)           (None, None, 16)          0         \n",
      "                                                                 \n",
      " global_average_pooling1d (G  (None, 16)               0         \n",
      " lobalAveragePooling1D)                                          \n",
      "                                                                 \n",
      " dropout_1 (Dropout)         (None, 16)                0         \n",
      "                                                                 \n",
      " dense (Dense)               (None, 1)                 17        \n",
      "                                                                 \n",
      "=================================================================\n",
      "Total params: 160,033\n",
      "Trainable params: 160,033\n",
      "Non-trainable params: 0\n",
      "_________________________________________________________________\n"
     ]
    }
   ],
   "source": [
    "model = tf.keras.Sequential([\n",
    "  layers.Embedding(max_features + 1, embedding_dim),\n",
    "  layers.Dropout(0.2),\n",
    "  layers.GlobalAveragePooling1D(),\n",
    "  layers.Dropout(0.2),\n",
    "  layers.Dense(1)])\n",
    "\n",
    "model.summary()"
   ]
  },
  {
   "cell_type": "code",
   "execution_count": 24,
   "id": "91033934",
   "metadata": {},
   "outputs": [],
   "source": [
    "model.compile(loss=losses.BinaryCrossentropy(from_logits=True),\n",
    "              optimizer='adam',\n",
    "              metrics=tf.metrics.BinaryAccuracy(threshold=0.0))"
   ]
  },
  {
   "cell_type": "code",
   "execution_count": 25,
   "id": "784b5a1d",
   "metadata": {},
   "outputs": [
    {
     "name": "stdout",
     "output_type": "stream",
     "text": [
      "Epoch 1/10\n",
      "1251/1251 [==============================] - 73s 57ms/step - loss: 0.6924 - binary_accuracy: 0.5141 - val_loss: 0.6915 - val_binary_accuracy: 0.5181\n",
      "Epoch 2/10\n",
      "1251/1251 [==============================] - 15s 12ms/step - loss: 0.6859 - binary_accuracy: 0.5749 - val_loss: 0.6848 - val_binary_accuracy: 0.5606\n",
      "Epoch 3/10\n",
      "1251/1251 [==============================] - 14s 11ms/step - loss: 0.6684 - binary_accuracy: 0.6305 - val_loss: 0.6730 - val_binary_accuracy: 0.5868\n",
      "Epoch 4/10\n",
      "1251/1251 [==============================] - 14s 11ms/step - loss: 0.6420 - binary_accuracy: 0.6621 - val_loss: 0.6608 - val_binary_accuracy: 0.6008\n",
      "Epoch 5/10\n",
      "1251/1251 [==============================] - 14s 11ms/step - loss: 0.6147 - binary_accuracy: 0.6813 - val_loss: 0.6511 - val_binary_accuracy: 0.6085\n",
      "Epoch 6/10\n",
      "1251/1251 [==============================] - 14s 11ms/step - loss: 0.5904 - binary_accuracy: 0.6984 - val_loss: 0.6461 - val_binary_accuracy: 0.6159\n",
      "Epoch 7/10\n",
      "1251/1251 [==============================] - 14s 11ms/step - loss: 0.5703 - binary_accuracy: 0.7067 - val_loss: 0.6441 - val_binary_accuracy: 0.6221\n",
      "Epoch 8/10\n",
      "1251/1251 [==============================] - 14s 11ms/step - loss: 0.5534 - binary_accuracy: 0.7176 - val_loss: 0.6450 - val_binary_accuracy: 0.6248\n",
      "Epoch 9/10\n",
      "1251/1251 [==============================] - 14s 11ms/step - loss: 0.5404 - binary_accuracy: 0.7249 - val_loss: 0.6469 - val_binary_accuracy: 0.6293\n",
      "Epoch 10/10\n",
      "1251/1251 [==============================] - 14s 11ms/step - loss: 0.5284 - binary_accuracy: 0.7327 - val_loss: 0.6502 - val_binary_accuracy: 0.6328\n"
     ]
    }
   ],
   "source": [
    "epochs = 10\n",
    "history = model.fit(\n",
    "    train_ds,\n",
    "    validation_data=val_ds,\n",
    "    epochs=epochs)"
   ]
  },
  {
   "cell_type": "code",
   "execution_count": 26,
   "id": "d772e30c",
   "metadata": {},
   "outputs": [
    {
     "name": "stdout",
     "output_type": "stream",
     "text": [
      "782/782 [==============================] - 11s 14ms/step - loss: 0.9134 - binary_accuracy: 0.4686\n",
      "Loss:  0.9133660793304443\n",
      "Accuracy:  0.46856001019477844\n"
     ]
    }
   ],
   "source": [
    "loss, accuracy = model.evaluate(test_ds)\n",
    "\n",
    "print(\"Loss: \", loss)\n",
    "print(\"Accuracy: \", accuracy)"
   ]
  },
  {
   "cell_type": "code",
   "execution_count": 27,
   "id": "552deb9f",
   "metadata": {},
   "outputs": [
    {
     "data": {
      "text/plain": [
       "dict_keys(['loss', 'binary_accuracy', 'val_loss', 'val_binary_accuracy'])"
      ]
     },
     "execution_count": 27,
     "metadata": {},
     "output_type": "execute_result"
    }
   ],
   "source": [
    "history_dict = history.history\n",
    "history_dict.keys()"
   ]
  },
  {
   "cell_type": "code",
   "execution_count": 28,
   "id": "b951cfad",
   "metadata": {},
   "outputs": [
    {
     "data": {
      "image/png": "[encoded data removed]",
      "text/plain": [
       "<Figure size 432x288 with 1 Axes>"
      ]
     },
     "metadata": {
      "needs_background": "light"
     },
     "output_type": "display_data"
    }
   ],
   "source": [
    "acc = history_dict['binary_accuracy']\n",
    "val_acc = history_dict['val_binary_accuracy']\n",
    "loss = history_dict['loss']\n",
    "val_loss = history_dict['val_loss']\n",
    "\n",
    "epochs = range(1, len(acc) + 1)\n",
    "\n",
    "# \"bo\" is for \"blue dot\"\n",
    "plt.plot(epochs, loss, 'bo', label='Training loss')\n",
    "# b is for \"solid blue line\"\n",
    "plt.plot(epochs, val_loss, 'b', label='Validation loss')\n",
    "plt.title('Training and validation loss')\n",
    "plt.xlabel('Epochs')\n",
    "plt.ylabel('Loss')\n",
    "plt.legend()\n",
    "\n",
    "plt.show()"
   ]
  },
  {
   "cell_type": "code",
   "execution_count": 29,
   "id": "442d3b32",
   "metadata": {},
   "outputs": [
    {
     "data": {
      "image/png": "[encoded data removed]",
      "text/plain": [
       "<Figure size 432x288 with 1 Axes>"
      ]
     },
     "metadata": {
      "needs_background": "light"
     },
     "output_type": "display_data"
    }
   ],
   "source": [
    "plt.plot(epochs, acc, 'bo', label='Training acc')\n",
    "plt.plot(epochs, val_acc, 'b', label='Validation acc')\n",
    "plt.title('Training and validation accuracy')\n",
    "plt.xlabel('Epochs')\n",
    "plt.ylabel('Accuracy')\n",
    "plt.legend(loc='lower right')\n",
    "\n",
    "plt.show()"
   ]
  },
  {
   "cell_type": "code",
   "execution_count": 32,
   "id": "3c91a983",
   "metadata": {},
   "outputs": [
    {
     "name": "stdout",
     "output_type": "stream",
     "text": [
      "782/782 [==============================] - 14s 18ms/step - loss: 0.9134 - accuracy: 0.4686\n",
      "0.46856001019477844\n"
     ]
    }
   ],
   "source": [
    "export_model = tf.keras.Sequential([\n",
    "  vectorize_layer,\n",
    "  model,\n",
    "  layers.Activation('sigmoid')\n",
    "])\n",
    "\n",
    "export_model.compile(\n",
    "    loss=losses.BinaryCrossentropy(from_logits=False), optimizer=\"adam\", metrics=['accuracy']\n",
    ")\n",
    "\n",
    "# Test it with `raw_test_ds`, which yields raw strings\n",
    "loss, accuracy = export_model.evaluate(test)\n",
    "print(accuracy)"
   ]
  },
  {
   "cell_type": "code",
   "execution_count": 33,
   "id": "f7ca9f9b",
   "metadata": {},
   "outputs": [
    {
     "name": "stdout",
     "output_type": "stream",
     "text": [
      "1/1 [==============================] - 0s 322ms/step\n"
     ]
    },
    {
     "data": {
      "text/plain": [
       "array([[0.44116074],\n",
       "       [0.4129345 ],\n",
       "       [0.44709733]], dtype=float32)"
      ]
     },
     "execution_count": 33,
     "metadata": {},
     "output_type": "execute_result"
    }
   ],
   "source": [
    "examples = [\n",
    "  \"The movie was great!\",\n",
    "  \"The movie was okay.\",\n",
    "  \"The movie was terrible...\"\n",
    "]\n",
    "\n",
    "export_model.predict(examples)"
   ]
  },
  {
   "cell_type": "code",
   "execution_count": null,
   "id": "9cd28d7f",
   "metadata": {},
   "outputs": [],
   "source": []
  }
 ],
 "metadata": {
  "kernelspec": {
   "display_name": "Python 3 (ipykernel)",
   "language": "python",
   "name": "python3"
  },
  "language_info": {
   "codemirror_mode": {
    "name": "ipython",
    "version": 3
   },
   "file_extension": ".py",
   "mimetype": "text/x-python",
   "name": "python",
   "nbconvert_exporter": "python",
   "pygments_lexer": "ipython3",
   "version": "3.9.2"
  }
 },
 "nbformat": 4,
 "nbformat_minor": 5
}
