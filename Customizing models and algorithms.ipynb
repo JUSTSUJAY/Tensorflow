{
 "cells": [
  {
   "cell_type": "markdown",
   "id": "814802c1",
   "metadata": {},
   "source": [
    "## Custom Loss Function\n",
    "- Huber loss function is available under the class - keras.losses.Huber"
   ]
  },
  {
   "cell_type": "code",
   "execution_count": 1,
   "id": "ef961064",
   "metadata": {},
   "outputs": [],
   "source": [
    "def HuberLoss(y_true,y_pred):\n",
    "    error = y_true - y_pred\n",
    "    is_small_error = tf.abs(error)<1\n",
    "    squared_loss = tf.square(error)/2\n",
    "    linear_loss = tf.abs(error)-0.5\n",
    "    return tf.where(is_small_error,squared_loss,linear_loss)"
   ]
  },
  {
   "cell_type": "code",
   "execution_count": 2,
   "id": "e33180cf",
   "metadata": {},
   "outputs": [],
   "source": [
    "import tensorflow as tf"
   ]
  },
  {
   "cell_type": "code",
   "execution_count": 4,
   "id": "e09bfbf7",
   "metadata": {},
   "outputs": [],
   "source": [
    "# model = tf.keras.models.load_model('my_model_with_custom_loss_function.h5',\n",
    "#                                   custom_objects = {'HuberLoss':HuberLoss})"
   ]
  },
  {
   "cell_type": "code",
   "execution_count": null,
   "id": "8527eeaa",
   "metadata": {},
   "outputs": [],
   "source": []
  }
 ],
 "metadata": {
  "kernelspec": {
   "display_name": "Python 3 (ipykernel)",
   "language": "python",
   "name": "python3"
  },
  "language_info": {
   "codemirror_mode": {
    "name": "ipython",
    "version": 3
   },
   "file_extension": ".py",
   "mimetype": "text/x-python",
   "name": "python",
   "nbconvert_exporter": "python",
   "pygments_lexer": "ipython3",
   "version": "3.9.2"
  }
 },
 "nbformat": 4,
 "nbformat_minor": 5
}
